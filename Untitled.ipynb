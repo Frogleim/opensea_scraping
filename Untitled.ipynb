{
 "cells": [
  {
   "cell_type": "code",
   "execution_count": 1,
   "id": "c869368f",
   "metadata": {},
   "outputs": [],
   "source": [
    "from selenium import webdriver\n",
    "from webdriver_manager.chrome import ChromeDriverManager"
   ]
  },
  {
   "cell_type": "code",
   "execution_count": 2,
   "id": "e597f9c4",
   "metadata": {},
   "outputs": [],
   "source": [
    "url = 'https://opensea.io/collection/wzrds'"
   ]
  },
  {
   "cell_type": "code",
   "execution_count": 3,
   "id": "d8b25780",
   "metadata": {},
   "outputs": [
    {
     "name": "stdout",
     "output_type": "stream",
     "text": [
      "\n"
     ]
    },
    {
     "name": "stderr",
     "output_type": "stream",
     "text": [
      "[WDM] - ====== WebDriver manager ======\n",
      "[WDM] - Current google-chrome version is 103.0.5060\n",
      "[WDM] - Get LATEST chromedriver version for 103.0.5060 google-chrome\n",
      "[WDM] - Driver [C:\\Users\\GSD Beast N10\\.wdm\\drivers\\chromedriver\\win32\\103.0.5060.53\\chromedriver.exe] found in cache\n",
      "C:\\Users\\GSD Beast N10\\AppData\\Local\\Temp\\ipykernel_4748\\1975020267.py:4: DeprecationWarning: executable_path has been deprecated, please pass in a Service object\n",
      "  driver = webdriver.Chrome(path, chrome_options=options)\n",
      "C:\\Users\\GSD Beast N10\\AppData\\Local\\Temp\\ipykernel_4748\\1975020267.py:4: DeprecationWarning: use options instead of chrome_options\n",
      "  driver = webdriver.Chrome(path, chrome_options=options)\n"
     ]
    }
   ],
   "source": [
    "path = ChromeDriverManager().install()\n",
    "options = webdriver.ChromeOptions()\n",
    "options.add_argument(\"--start-maximized\")\n",
    "driver = webdriver.Chrome(path, chrome_options=options)\n",
    "driver.get(url)"
   ]
  },
  {
   "cell_type": "code",
   "execution_count": 4,
   "id": "bf4ed359",
   "metadata": {},
   "outputs": [
    {
     "name": "stderr",
     "output_type": "stream",
     "text": [
      "C:\\Users\\GSD Beast N10\\AppData\\Local\\Temp\\ipykernel_4748\\3209462583.py:1: DeprecationWarning: find_element_by_xpath is deprecated. Please use find_element(by=By.XPATH, value=xpath) instead\n",
      "  items = driver.find_element_by_xpath('//*[@id=\"main\"]/div/div/div[5]/div/div[1]/div/div[3]/div/div[2]/button/div/span[1]/div').text\n",
      "C:\\Users\\GSD Beast N10\\AppData\\Local\\Temp\\ipykernel_4748\\3209462583.py:2: DeprecationWarning: find_element_by_xpath is deprecated. Please use find_element(by=By.XPATH, value=xpath) instead\n",
      "  owners = driver.find_element_by_xpath('//*[@id=\"main\"]/div/div/div[5]/div/div[1]/div/div[3]/div/div[4]/a/div/span[1]/div').text\n",
      "C:\\Users\\GSD Beast N10\\AppData\\Local\\Temp\\ipykernel_4748\\3209462583.py:3: DeprecationWarning: find_element_by_xpath is deprecated. Please use find_element(by=By.XPATH, value=xpath) instead\n",
      "  floor_price = driver.find_element_by_xpath('//*[@id=\"main\"]/div/div/div[5]/div/div[1]/div/div[3]/div/div[6]/a/div/span[1]/div').text\n",
      "C:\\Users\\GSD Beast N10\\AppData\\Local\\Temp\\ipykernel_4748\\3209462583.py:4: DeprecationWarning: find_element_by_xpath is deprecated. Please use find_element(by=By.XPATH, value=xpath) instead\n",
      "  total_volume = driver.find_element_by_xpath('//*[@id=\"main\"]/div/div/div[5]/div/div[1]/div/div[3]/div/div[8]/a/div/span[1]/div').text\n"
     ]
    }
   ],
   "source": [
    "items = driver.find_element_by_xpath('//*[@id=\"main\"]/div/div/div[5]/div/div[1]/div/div[3]/div/div[2]/button/div/span[1]/div').text\n",
    "owners = driver.find_element_by_xpath('//*[@id=\"main\"]/div/div/div[5]/div/div[1]/div/div[3]/div/div[4]/a/div/span[1]/div').text\n",
    "floor_price = driver.find_element_by_xpath('//*[@id=\"main\"]/div/div/div[5]/div/div[1]/div/div[3]/div/div[6]/a/div/span[1]/div').text\n",
    "total_volume = driver.find_element_by_xpath('//*[@id=\"main\"]/div/div/div[5]/div/div[1]/div/div[3]/div/div[8]/a/div/span[1]/div').text"
   ]
  },
  {
   "cell_type": "code",
   "execution_count": 5,
   "id": "22fedf59",
   "metadata": {},
   "outputs": [
    {
     "name": "stdout",
     "output_type": "stream",
     "text": [
      "10.0K\n",
      "5.2K\n",
      "0.255\n",
      "2.1K\n"
     ]
    }
   ],
   "source": [
    "print(items)\n",
    "print(owners)\n",
    "print(floor_price)\n",
    "print(total_volume)"
   ]
  },
  {
   "cell_type": "code",
   "execution_count": null,
   "id": "f2af5176",
   "metadata": {},
   "outputs": [],
   "source": []
  }
 ],
 "metadata": {
  "kernelspec": {
   "display_name": "Python 3 (ipykernel)",
   "language": "python",
   "name": "python3"
  },
  "language_info": {
   "codemirror_mode": {
    "name": "ipython",
    "version": 3
   },
   "file_extension": ".py",
   "mimetype": "text/x-python",
   "name": "python",
   "nbconvert_exporter": "python",
   "pygments_lexer": "ipython3",
   "version": "3.8.0"
  }
 },
 "nbformat": 4,
 "nbformat_minor": 5
}
